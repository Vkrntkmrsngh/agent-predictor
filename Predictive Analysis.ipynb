{
 "cells": [
  {
   "cell_type": "code",
   "execution_count": 5,
   "metadata": {},
   "outputs": [],
   "source": [
    "import os\n",
    "import pandas as pd\n",
    "from sklearn.preprocessing import LabelEncoder\n",
    "from sklearn.preprocessing import OneHotEncoder\n",
    "from sklearn.model_selection import train_test_split\n",
    "from sklearn.linear_model import LogisticRegression\n",
    "from sklearn.ensemble import RandomForestClassifier\n",
    "from sklearn.tree import DecisionTreeClassifier\n",
    "from sklearn.naive_bayes import GaussianNB\n",
    "from xgboost import XGBClassifier\n",
    "from sklearn.metrics import confusion_matrix,accuracy_score\n",
    "import pickle"
   ]
  },
  {
   "cell_type": "code",
   "execution_count": 97,
   "metadata": {},
   "outputs": [],
   "source": [
    "processed_data_path=os.path.join(os.pardir,'data//intrim//Insurance_Producers_Licensed_in_Iowa_10.csv')"
   ]
  },
  {
   "cell_type": "code",
   "execution_count": 98,
   "metadata": {},
   "outputs": [
    {
     "name": "stderr",
     "output_type": "stream",
     "text": [
      "c:\\users\\671869\\documents\\case_study\\agent_attiration\\lib\\site-packages\\IPython\\core\\interactiveshell.py:3044: DtypeWarning: Columns (13) have mixed types. Specify dtype option on import or set low_memory=False.\n",
      "  interactivity=interactivity, compiler=compiler, result=result)\n"
     ]
    }
   ],
   "source": [
    "processed_data1=pd.read_csv(processed_data_path,index_col='National Producer Number')"
   ]
  },
  {
   "cell_type": "code",
   "execution_count": 99,
   "metadata": {},
   "outputs": [],
   "source": [
    "drop_cols=['Last Name','First Name','Mailing Address 1','Mailing Address 2',\n",
    "               'Mailing Address 3','Business Phone','Business Email','Mailing Zip',\n",
    "               'Active Date','Date Expire','Mailing City','Physical Location']\n",
    "\n",
    "processed_data1.drop(drop_cols,axis=1,inplace=True)"
   ]
  },
  {
   "cell_type": "code",
   "execution_count": 100,
   "metadata": {},
   "outputs": [
    {
     "name": "stdout",
     "output_type": "stream",
     "text": [
      "<class 'pandas.core.frame.DataFrame'>\n",
      "Int64Index: 132853 entries, 1 to 132853\n",
      "Data columns (total 19 columns):\n",
      "Gender                             132853 non-null object\n",
      "Age                                132853 non-null int64\n",
      "Salary                             132853 non-null float64\n",
      "LOS                                130230 non-null float64\n",
      "Marital StatSs                     132853 non-null object\n",
      "Mailing State                      132853 non-null object\n",
      "Iowa Resident                      132853 non-null object\n",
      "Crop                               132853 non-null object\n",
      "Surety                             132853 non-null object\n",
      "Accident and Health                132853 non-null object\n",
      "Life                               132853 non-null object\n",
      "Variable Life, Variable Annuity    132853 non-null object\n",
      "Personal Lines                     132853 non-null object\n",
      "Credit                             132853 non-null object\n",
      "Excess and Surplus Lines           132853 non-null object\n",
      "Property                           132853 non-null object\n",
      "Casualty                           132853 non-null object\n",
      "Reciprocal Authority               132853 non-null object\n",
      "output                             132853 non-null int64\n",
      "dtypes: float64(2), int64(2), object(15)\n",
      "memory usage: 20.3+ MB\n"
     ]
    }
   ],
   "source": [
    "processed_data1.info()"
   ]
  },
  {
   "cell_type": "code",
   "execution_count": 101,
   "metadata": {},
   "outputs": [],
   "source": [
    "processed_data1['LOS'].mean()\n",
    "processed_data1.LOS.fillna(13.24, inplace=True)"
   ]
  },
  {
   "cell_type": "code",
   "execution_count": 102,
   "metadata": {},
   "outputs": [],
   "source": [
    "processed_data1.to_csv('train_processed_10Percent.csv')"
   ]
  },
  {
   "cell_type": "code",
   "execution_count": 103,
   "metadata": {},
   "outputs": [
    {
     "name": "stdout",
     "output_type": "stream",
     "text": [
      "<class 'pandas.core.frame.DataFrame'>\n",
      "Int64Index: 132853 entries, 1 to 132853\n",
      "Data columns (total 19 columns):\n",
      "Gender                             132853 non-null object\n",
      "Age                                132853 non-null int64\n",
      "Salary                             132853 non-null float64\n",
      "LOS                                132853 non-null float64\n",
      "Marital StatSs                     132853 non-null object\n",
      "Mailing State                      132853 non-null object\n",
      "Iowa Resident                      132853 non-null object\n",
      "Crop                               132853 non-null object\n",
      "Surety                             132853 non-null object\n",
      "Accident and Health                132853 non-null object\n",
      "Life                               132853 non-null object\n",
      "Variable Life, Variable Annuity    132853 non-null object\n",
      "Personal Lines                     132853 non-null object\n",
      "Credit                             132853 non-null object\n",
      "Excess and Surplus Lines           132853 non-null object\n",
      "Property                           132853 non-null object\n",
      "Casualty                           132853 non-null object\n",
      "Reciprocal Authority               132853 non-null object\n",
      "output                             132853 non-null int64\n",
      "dtypes: float64(2), int64(2), object(15)\n",
      "memory usage: 20.3+ MB\n"
     ]
    }
   ],
   "source": [
    "processed_data1.info()"
   ]
  },
  {
   "cell_type": "code",
   "execution_count": 104,
   "metadata": {},
   "outputs": [
    {
     "data": {
      "text/html": [
       "<div>\n",
       "<style scoped>\n",
       "    .dataframe tbody tr th:only-of-type {\n",
       "        vertical-align: middle;\n",
       "    }\n",
       "\n",
       "    .dataframe tbody tr th {\n",
       "        vertical-align: top;\n",
       "    }\n",
       "\n",
       "    .dataframe thead th {\n",
       "        text-align: right;\n",
       "    }\n",
       "</style>\n",
       "<table border=\"1\" class=\"dataframe\">\n",
       "  <thead>\n",
       "    <tr style=\"text-align: right;\">\n",
       "      <th></th>\n",
       "      <th>Gender</th>\n",
       "      <th>Age</th>\n",
       "      <th>Salary</th>\n",
       "      <th>LOS</th>\n",
       "      <th>Marital StatSs</th>\n",
       "      <th>Mailing State</th>\n",
       "      <th>Iowa Resident</th>\n",
       "      <th>Crop</th>\n",
       "      <th>Surety</th>\n",
       "      <th>Accident and Health</th>\n",
       "      <th>Life</th>\n",
       "      <th>Variable Life, Variable Annuity</th>\n",
       "      <th>Personal Lines</th>\n",
       "      <th>Credit</th>\n",
       "      <th>Excess and Surplus Lines</th>\n",
       "      <th>Property</th>\n",
       "      <th>Casualty</th>\n",
       "      <th>Reciprocal Authority</th>\n",
       "    </tr>\n",
       "    <tr>\n",
       "      <th>National Producer Number</th>\n",
       "      <th></th>\n",
       "      <th></th>\n",
       "      <th></th>\n",
       "      <th></th>\n",
       "      <th></th>\n",
       "      <th></th>\n",
       "      <th></th>\n",
       "      <th></th>\n",
       "      <th></th>\n",
       "      <th></th>\n",
       "      <th></th>\n",
       "      <th></th>\n",
       "      <th></th>\n",
       "      <th></th>\n",
       "      <th></th>\n",
       "      <th></th>\n",
       "      <th></th>\n",
       "      <th></th>\n",
       "    </tr>\n",
       "  </thead>\n",
       "  <tbody>\n",
       "    <tr>\n",
       "      <th>1</th>\n",
       "      <td>M</td>\n",
       "      <td>22</td>\n",
       "      <td>905.08</td>\n",
       "      <td>1.0</td>\n",
       "      <td>S</td>\n",
       "      <td>MN</td>\n",
       "      <td>No</td>\n",
       "      <td>No</td>\n",
       "      <td>No</td>\n",
       "      <td>Yes</td>\n",
       "      <td>Yes</td>\n",
       "      <td>Yes</td>\n",
       "      <td>No</td>\n",
       "      <td>No</td>\n",
       "      <td>No</td>\n",
       "      <td>No</td>\n",
       "      <td>No</td>\n",
       "      <td>No</td>\n",
       "    </tr>\n",
       "    <tr>\n",
       "      <th>2</th>\n",
       "      <td>M</td>\n",
       "      <td>36</td>\n",
       "      <td>54537.50</td>\n",
       "      <td>14.0</td>\n",
       "      <td>M</td>\n",
       "      <td>CA</td>\n",
       "      <td>No</td>\n",
       "      <td>No</td>\n",
       "      <td>No</td>\n",
       "      <td>No</td>\n",
       "      <td>No</td>\n",
       "      <td>No</td>\n",
       "      <td>No</td>\n",
       "      <td>No</td>\n",
       "      <td>No</td>\n",
       "      <td>Yes</td>\n",
       "      <td>Yes</td>\n",
       "      <td>No</td>\n",
       "    </tr>\n",
       "    <tr>\n",
       "      <th>3</th>\n",
       "      <td>M</td>\n",
       "      <td>36</td>\n",
       "      <td>14669.59</td>\n",
       "      <td>13.0</td>\n",
       "      <td>S</td>\n",
       "      <td>IL</td>\n",
       "      <td>No</td>\n",
       "      <td>No</td>\n",
       "      <td>No</td>\n",
       "      <td>No</td>\n",
       "      <td>Yes</td>\n",
       "      <td>No</td>\n",
       "      <td>No</td>\n",
       "      <td>No</td>\n",
       "      <td>No</td>\n",
       "      <td>Yes</td>\n",
       "      <td>Yes</td>\n",
       "      <td>No</td>\n",
       "    </tr>\n",
       "    <tr>\n",
       "      <th>4</th>\n",
       "      <td>M</td>\n",
       "      <td>21</td>\n",
       "      <td>91096.89</td>\n",
       "      <td>1.0</td>\n",
       "      <td>S</td>\n",
       "      <td>NC</td>\n",
       "      <td>No</td>\n",
       "      <td>No</td>\n",
       "      <td>No</td>\n",
       "      <td>No</td>\n",
       "      <td>Yes</td>\n",
       "      <td>Yes</td>\n",
       "      <td>No</td>\n",
       "      <td>No</td>\n",
       "      <td>No</td>\n",
       "      <td>No</td>\n",
       "      <td>No</td>\n",
       "      <td>No</td>\n",
       "    </tr>\n",
       "    <tr>\n",
       "      <th>5</th>\n",
       "      <td>F</td>\n",
       "      <td>42</td>\n",
       "      <td>97931.30</td>\n",
       "      <td>20.0</td>\n",
       "      <td>M</td>\n",
       "      <td>IA</td>\n",
       "      <td>Yes</td>\n",
       "      <td>No</td>\n",
       "      <td>No</td>\n",
       "      <td>Yes</td>\n",
       "      <td>Yes</td>\n",
       "      <td>No</td>\n",
       "      <td>No</td>\n",
       "      <td>No</td>\n",
       "      <td>No</td>\n",
       "      <td>No</td>\n",
       "      <td>No</td>\n",
       "      <td>No</td>\n",
       "    </tr>\n",
       "  </tbody>\n",
       "</table>\n",
       "</div>"
      ],
      "text/plain": [
       "                         Gender  Age    Salary   LOS Marital StatSs  \\\n",
       "National Producer Number                                              \n",
       "1                             M   22    905.08   1.0              S   \n",
       "2                             M   36  54537.50  14.0              M   \n",
       "3                             M   36  14669.59  13.0              S   \n",
       "4                             M   21  91096.89   1.0              S   \n",
       "5                             F   42  97931.30  20.0              M   \n",
       "\n",
       "                         Mailing State Iowa Resident Crop Surety  \\\n",
       "National Producer Number                                           \n",
       "1                                   MN            No   No     No   \n",
       "2                                   CA            No   No     No   \n",
       "3                                   IL            No   No     No   \n",
       "4                                   NC            No   No     No   \n",
       "5                                   IA           Yes   No     No   \n",
       "\n",
       "                         Accident and Health Life  \\\n",
       "National Producer Number                            \n",
       "1                                        Yes  Yes   \n",
       "2                                         No   No   \n",
       "3                                         No  Yes   \n",
       "4                                         No  Yes   \n",
       "5                                        Yes  Yes   \n",
       "\n",
       "                         Variable Life, Variable Annuity Personal Lines  \\\n",
       "National Producer Number                                                  \n",
       "1                                                    Yes             No   \n",
       "2                                                     No             No   \n",
       "3                                                     No             No   \n",
       "4                                                    Yes             No   \n",
       "5                                                     No             No   \n",
       "\n",
       "                         Credit Excess and Surplus Lines Property Casualty  \\\n",
       "National Producer Number                                                     \n",
       "1                            No                       No       No       No   \n",
       "2                            No                       No      Yes      Yes   \n",
       "3                            No                       No      Yes      Yes   \n",
       "4                            No                       No       No       No   \n",
       "5                            No                       No       No       No   \n",
       "\n",
       "                         Reciprocal Authority  \n",
       "National Producer Number                       \n",
       "1                                          No  \n",
       "2                                          No  \n",
       "3                                          No  \n",
       "4                                          No  \n",
       "5                                          No  "
      ]
     },
     "execution_count": 104,
     "metadata": {},
     "output_type": "execute_result"
    }
   ],
   "source": [
    "X=processed_data1.iloc[:,:18]\n",
    "X.head()"
   ]
  },
  {
   "cell_type": "code",
   "execution_count": 105,
   "metadata": {},
   "outputs": [],
   "source": [
    "#seperate dependent and independent variables\n",
    "X=processed_data1.iloc[:,:18].values\n",
    "y=processed_data1.iloc[:,18]"
   ]
  },
  {
   "cell_type": "code",
   "execution_count": 106,
   "metadata": {},
   "outputs": [],
   "source": [
    "#change categorical variables to label using label encoder\n",
    "X_label1=LabelEncoder()\n",
    "X[:,0]=X_label1.fit_transform(X[:,0])\n",
    "X_label2=LabelEncoder()\n",
    "X[:,4]=X_label2.fit_transform(X[:,4])\n",
    "X_label3=LabelEncoder()\n",
    "X[:,6]=X_label3.fit_transform(X[:,6])\n",
    "X_label4=LabelEncoder()\n",
    "X[:,7]=X_label4.fit_transform(X[:,7])\n",
    "X_label5=LabelEncoder()\n",
    "X[:,8]=X_label5.fit_transform(X[:,8])\n",
    "X_label6=LabelEncoder()\n",
    "X[:,9]=X_label6.fit_transform(X[:,9])\n",
    "X_label7=LabelEncoder()\n",
    "X[:,10]=X_label7.fit_transform(X[:,10])\n",
    "X_label8=LabelEncoder()\n",
    "X[:,11]=X_label8.fit_transform(X[:,11])\n",
    "X_label9=LabelEncoder()\n",
    "X[:,12]=X_label9.fit_transform(X[:,12])\n",
    "X_label10=LabelEncoder()\n",
    "X[:,13]=X_label10.fit_transform(X[:,13])\n",
    "X_label11=LabelEncoder()\n",
    "X[:,14]=X_label11.fit_transform(X[:,14])\n",
    "X_label12=LabelEncoder()\n",
    "X[:,15]=X_label12.fit_transform(X[:,15])\n",
    "X_label12=LabelEncoder()\n",
    "X[:,16]=X_label12.fit_transform(X[:,16])\n",
    "X_label12=LabelEncoder()\n",
    "X[:,17]=X_label12.fit_transform(X[:,17])"
   ]
  },
  {
   "cell_type": "code",
   "execution_count": 107,
   "metadata": {},
   "outputs": [
    {
     "data": {
      "text/plain": [
       "array(['MN', 'CA', 'IL', ..., 'WA', 'IA', 'TX'], dtype=object)"
      ]
     },
     "execution_count": 107,
     "metadata": {},
     "output_type": "execute_result"
    }
   ],
   "source": [
    "#check for state column\n",
    "X[:,5]"
   ]
  },
  {
   "cell_type": "code",
   "execution_count": 108,
   "metadata": {},
   "outputs": [],
   "source": [
    "#convert state column to labels\n",
    "X_label=LabelEncoder()\n",
    "X[:,5]=X_label.fit_transform(X[:,5])"
   ]
  },
  {
   "cell_type": "code",
   "execution_count": 109,
   "metadata": {},
   "outputs": [
    {
     "data": {
      "text/plain": [
       "array(['AK', 'AL', 'AR', 'AZ', 'CA', 'CO', 'CT', 'DC', 'DE', 'FL', 'GA',\n",
       "       'GU', 'HI', 'IA', 'ID', 'IL', 'IN', 'KS', 'KY', 'LA', 'MA', 'MD',\n",
       "       'ME', 'MI', 'MN', 'MO', 'MS', 'MT', 'NC', 'ND', 'NE', 'NH', 'NJ',\n",
       "       'NM', 'NV', 'NY', 'OH', 'OK', 'ON', 'OR', 'PA', 'PR', 'RI', 'SC',\n",
       "       'SD', 'SK', 'TN', 'TX', 'UT', 'VA', 'VI', 'VT', 'WA', 'WI', 'WV',\n",
       "       'WY'], dtype=object)"
      ]
     },
     "execution_count": 109,
     "metadata": {},
     "output_type": "execute_result"
    }
   ],
   "source": [
    "#check classes of state column\n",
    "X_label.classes_"
   ]
  },
  {
   "cell_type": "code",
   "execution_count": 110,
   "metadata": {},
   "outputs": [
    {
     "data": {
      "text/plain": [
       "array([24, 4, 15, ..., 52, 13, 47], dtype=object)"
      ]
     },
     "execution_count": 110,
     "metadata": {},
     "output_type": "execute_result"
    }
   ],
   "source": [
    "#check labels after label encoding\n",
    "X[:,5]"
   ]
  },
  {
   "cell_type": "code",
   "execution_count": 111,
   "metadata": {},
   "outputs": [],
   "source": [
    "#Save the label encoder for state to use on test data\n",
    "\n",
    "#create the file paths\n",
    "label_file_path=os.path.join(os.path.pardir,'models','agent_predictor_label_encoder.pkl')\n",
    "\n",
    "#open the files to write\n",
    "label_file_pickle=open(label_file_path,'wb')\n",
    "\n",
    "#write in file\n",
    "pickle.dump(X_label,label_file_pickle)\n",
    "\n",
    "#close the file\n",
    "label_file_pickle.close()"
   ]
  },
  {
   "cell_type": "code",
   "execution_count": 112,
   "metadata": {},
   "outputs": [
    {
     "name": "stderr",
     "output_type": "stream",
     "text": [
      "c:\\users\\671869\\documents\\case_study\\agent_attiration\\lib\\site-packages\\sklearn\\preprocessing\\_encoders.py:371: FutureWarning: The handling of integer data will change in version 0.22. Currently, the categories are determined based on the range [0, max(values)], while in the future they will be determined based on the unique values.\n",
      "If you want the future behaviour and silence this warning, you can specify \"categories='auto'\".\n",
      "In case you used a LabelEncoder before this OneHotEncoder to convert the categories to integers, then you can now use the OneHotEncoder directly.\n",
      "  warnings.warn(msg, FutureWarning)\n",
      "c:\\users\\671869\\documents\\case_study\\agent_attiration\\lib\\site-packages\\sklearn\\preprocessing\\_encoders.py:392: DeprecationWarning: The 'categorical_features' keyword is deprecated in version 0.20 and will be removed in 0.22. You can use the ColumnTransformer instead.\n",
      "  \"use the ColumnTransformer instead.\", DeprecationWarning)\n"
     ]
    }
   ],
   "source": [
    "#use one hot encoder on state column as it has more than 2 unique values\n",
    "one_hot=OneHotEncoder(categorical_features=[5],sparse=False)\n",
    "X=one_hot.fit_transform(X)"
   ]
  },
  {
   "cell_type": "code",
   "execution_count": 114,
   "metadata": {},
   "outputs": [
    {
     "data": {
      "text/plain": [
       "(132853, 73)"
      ]
     },
     "execution_count": 114,
     "metadata": {},
     "output_type": "execute_result"
    }
   ],
   "source": [
    "#check shape of dependent variables\n",
    "X.shape"
   ]
  },
  {
   "cell_type": "code",
   "execution_count": 115,
   "metadata": {},
   "outputs": [
    {
     "data": {
      "text/html": [
       "<div>\n",
       "<style scoped>\n",
       "    .dataframe tbody tr th:only-of-type {\n",
       "        vertical-align: middle;\n",
       "    }\n",
       "\n",
       "    .dataframe tbody tr th {\n",
       "        vertical-align: top;\n",
       "    }\n",
       "\n",
       "    .dataframe thead th {\n",
       "        text-align: right;\n",
       "    }\n",
       "</style>\n",
       "<table border=\"1\" class=\"dataframe\">\n",
       "  <thead>\n",
       "    <tr style=\"text-align: right;\">\n",
       "      <th></th>\n",
       "      <th>0</th>\n",
       "      <th>1</th>\n",
       "      <th>2</th>\n",
       "      <th>3</th>\n",
       "      <th>4</th>\n",
       "      <th>5</th>\n",
       "      <th>6</th>\n",
       "      <th>7</th>\n",
       "      <th>8</th>\n",
       "      <th>9</th>\n",
       "      <th>...</th>\n",
       "      <th>63</th>\n",
       "      <th>64</th>\n",
       "      <th>65</th>\n",
       "      <th>66</th>\n",
       "      <th>67</th>\n",
       "      <th>68</th>\n",
       "      <th>69</th>\n",
       "      <th>70</th>\n",
       "      <th>71</th>\n",
       "      <th>72</th>\n",
       "    </tr>\n",
       "  </thead>\n",
       "  <tbody>\n",
       "    <tr>\n",
       "      <th>0</th>\n",
       "      <td>0.0</td>\n",
       "      <td>0.0</td>\n",
       "      <td>0.0</td>\n",
       "      <td>0.0</td>\n",
       "      <td>0.0</td>\n",
       "      <td>0.0</td>\n",
       "      <td>0.0</td>\n",
       "      <td>0.0</td>\n",
       "      <td>0.0</td>\n",
       "      <td>0.0</td>\n",
       "      <td>...</td>\n",
       "      <td>0.0</td>\n",
       "      <td>1.0</td>\n",
       "      <td>1.0</td>\n",
       "      <td>1.0</td>\n",
       "      <td>0.0</td>\n",
       "      <td>0.0</td>\n",
       "      <td>0.0</td>\n",
       "      <td>0.0</td>\n",
       "      <td>0.0</td>\n",
       "      <td>0.0</td>\n",
       "    </tr>\n",
       "    <tr>\n",
       "      <th>1</th>\n",
       "      <td>0.0</td>\n",
       "      <td>0.0</td>\n",
       "      <td>0.0</td>\n",
       "      <td>0.0</td>\n",
       "      <td>1.0</td>\n",
       "      <td>0.0</td>\n",
       "      <td>0.0</td>\n",
       "      <td>0.0</td>\n",
       "      <td>0.0</td>\n",
       "      <td>0.0</td>\n",
       "      <td>...</td>\n",
       "      <td>0.0</td>\n",
       "      <td>0.0</td>\n",
       "      <td>0.0</td>\n",
       "      <td>0.0</td>\n",
       "      <td>0.0</td>\n",
       "      <td>0.0</td>\n",
       "      <td>0.0</td>\n",
       "      <td>1.0</td>\n",
       "      <td>1.0</td>\n",
       "      <td>0.0</td>\n",
       "    </tr>\n",
       "    <tr>\n",
       "      <th>2</th>\n",
       "      <td>0.0</td>\n",
       "      <td>0.0</td>\n",
       "      <td>0.0</td>\n",
       "      <td>0.0</td>\n",
       "      <td>0.0</td>\n",
       "      <td>0.0</td>\n",
       "      <td>0.0</td>\n",
       "      <td>0.0</td>\n",
       "      <td>0.0</td>\n",
       "      <td>0.0</td>\n",
       "      <td>...</td>\n",
       "      <td>0.0</td>\n",
       "      <td>0.0</td>\n",
       "      <td>1.0</td>\n",
       "      <td>0.0</td>\n",
       "      <td>0.0</td>\n",
       "      <td>0.0</td>\n",
       "      <td>0.0</td>\n",
       "      <td>1.0</td>\n",
       "      <td>1.0</td>\n",
       "      <td>0.0</td>\n",
       "    </tr>\n",
       "    <tr>\n",
       "      <th>3</th>\n",
       "      <td>0.0</td>\n",
       "      <td>0.0</td>\n",
       "      <td>0.0</td>\n",
       "      <td>0.0</td>\n",
       "      <td>0.0</td>\n",
       "      <td>0.0</td>\n",
       "      <td>0.0</td>\n",
       "      <td>0.0</td>\n",
       "      <td>0.0</td>\n",
       "      <td>0.0</td>\n",
       "      <td>...</td>\n",
       "      <td>0.0</td>\n",
       "      <td>0.0</td>\n",
       "      <td>1.0</td>\n",
       "      <td>1.0</td>\n",
       "      <td>0.0</td>\n",
       "      <td>0.0</td>\n",
       "      <td>0.0</td>\n",
       "      <td>0.0</td>\n",
       "      <td>0.0</td>\n",
       "      <td>0.0</td>\n",
       "    </tr>\n",
       "    <tr>\n",
       "      <th>4</th>\n",
       "      <td>0.0</td>\n",
       "      <td>0.0</td>\n",
       "      <td>0.0</td>\n",
       "      <td>0.0</td>\n",
       "      <td>0.0</td>\n",
       "      <td>0.0</td>\n",
       "      <td>0.0</td>\n",
       "      <td>0.0</td>\n",
       "      <td>0.0</td>\n",
       "      <td>0.0</td>\n",
       "      <td>...</td>\n",
       "      <td>0.0</td>\n",
       "      <td>1.0</td>\n",
       "      <td>1.0</td>\n",
       "      <td>0.0</td>\n",
       "      <td>0.0</td>\n",
       "      <td>0.0</td>\n",
       "      <td>0.0</td>\n",
       "      <td>0.0</td>\n",
       "      <td>0.0</td>\n",
       "      <td>0.0</td>\n",
       "    </tr>\n",
       "  </tbody>\n",
       "</table>\n",
       "<p>5 rows × 73 columns</p>\n",
       "</div>"
      ],
      "text/plain": [
       "    0    1    2    3    4    5    6    7    8    9   ...   63   64   65   66  \\\n",
       "0  0.0  0.0  0.0  0.0  0.0  0.0  0.0  0.0  0.0  0.0  ...  0.0  1.0  1.0  1.0   \n",
       "1  0.0  0.0  0.0  0.0  1.0  0.0  0.0  0.0  0.0  0.0  ...  0.0  0.0  0.0  0.0   \n",
       "2  0.0  0.0  0.0  0.0  0.0  0.0  0.0  0.0  0.0  0.0  ...  0.0  0.0  1.0  0.0   \n",
       "3  0.0  0.0  0.0  0.0  0.0  0.0  0.0  0.0  0.0  0.0  ...  0.0  0.0  1.0  1.0   \n",
       "4  0.0  0.0  0.0  0.0  0.0  0.0  0.0  0.0  0.0  0.0  ...  0.0  1.0  1.0  0.0   \n",
       "\n",
       "    67   68   69   70   71   72  \n",
       "0  0.0  0.0  0.0  0.0  0.0  0.0  \n",
       "1  0.0  0.0  0.0  1.0  1.0  0.0  \n",
       "2  0.0  0.0  0.0  1.0  1.0  0.0  \n",
       "3  0.0  0.0  0.0  0.0  0.0  0.0  \n",
       "4  0.0  0.0  0.0  0.0  0.0  0.0  \n",
       "\n",
       "[5 rows x 73 columns]"
      ]
     },
     "execution_count": 115,
     "metadata": {},
     "output_type": "execute_result"
    }
   ],
   "source": [
    "\n",
    "#converting array to dataframe to check if onehot encoder has worked or not\n",
    "test_df=pd.DataFrame(data=X[:,:])\n",
    "test_df.head()"
   ]
  },
  {
   "cell_type": "code",
   "execution_count": 58,
   "metadata": {},
   "outputs": [],
   "source": [
    "#Save the onehot encoder for state to use on test data\n",
    "\n",
    "#create the file paths\n",
    "onehot_file_path=os.path.join(os.path.pardir,'models','agent_predictor_onehot_encoder.pkl')\n",
    "\n",
    "#open the files to write\n",
    "onehot_file_pickle=open(onehot_file_path,'wb')\n",
    "\n",
    "#write in file\n",
    "pickle.dump(one_hot,onehot_file_pickle)\n",
    "\n",
    "#close the file\n",
    "onehot_file_pickle.close()"
   ]
  },
  {
   "cell_type": "code",
   "execution_count": 59,
   "metadata": {},
   "outputs": [
    {
     "data": {
      "text/plain": [
       "array([1, 0, 0, ..., 0, 0, 0], dtype=int64)"
      ]
     },
     "execution_count": 59,
     "metadata": {},
     "output_type": "execute_result"
    }
   ],
   "source": [
    "#check value of dependent variable\n",
    "y.values"
   ]
  },
  {
   "cell_type": "code",
   "execution_count": 60,
   "metadata": {},
   "outputs": [],
   "source": [
    "#split data in train and validation set\n",
    "from sklearn.model_selection import train_test_split\n",
    "X_train,X_test,y_train,y_test=train_test_split(X,y,test_size=0.1,random_state=0)"
   ]
  },
  {
   "cell_type": "code",
   "execution_count": 61,
   "metadata": {},
   "outputs": [],
   "source": [
    "#Scaling of data\n",
    "from sklearn.preprocessing import StandardScaler\n",
    "sc=StandardScaler()\n",
    "X_train=sc.fit_transform(X_train)#\n",
    "X_test=sc.fit_transform(X_test)"
   ]
  },
  {
   "cell_type": "code",
   "execution_count": 62,
   "metadata": {},
   "outputs": [
    {
     "data": {
      "text/plain": [
       "array([[-0.01852084, -0.05196463, -0.06467186, ..., -0.75461929,\n",
       "        -0.75538386, -0.02065723],\n",
       "       [-0.01852084, -0.05196463, -0.06467186, ...,  1.32517152,\n",
       "         1.32383025, -0.02065723],\n",
       "       [-0.01852084, -0.05196463, -0.06467186, ...,  1.32517152,\n",
       "         1.32383025, -0.02065723],\n",
       "       ...,\n",
       "       [-0.01852084, -0.05196463, -0.06467186, ..., -0.75461929,\n",
       "        -0.75538386, -0.02065723],\n",
       "       [-0.01852084, -0.05196463, -0.06467186, ..., -0.75461929,\n",
       "        -0.75538386, -0.02065723],\n",
       "       [-0.01852084, -0.05196463, -0.06467186, ..., -0.75461929,\n",
       "        -0.75538386, -0.02065723]])"
      ]
     },
     "execution_count": 62,
     "metadata": {},
     "output_type": "execute_result"
    }
   ],
   "source": [
    "X_train"
   ]
  },
  {
   "cell_type": "code",
   "execution_count": 63,
   "metadata": {},
   "outputs": [],
   "source": [
    "#Save scalar to apply scaling on test data\n",
    "\n",
    "#create the file paths\n",
    "scale_file_path=os.path.join(os.path.pardir,'models','agent_predictor_standardscalar_encoder.pkl')\n",
    "\n",
    "#open the files to write\n",
    "scale_file_pickle=open(scale_file_path,'wb')\n",
    "\n",
    "#write in file\n",
    "pickle.dump(sc,scale_file_pickle)\n",
    "\n",
    "#close the file\n",
    "scale_file_pickle.close()"
   ]
  },
  {
   "cell_type": "code",
   "execution_count": 64,
   "metadata": {},
   "outputs": [
    {
     "data": {
      "text/html": [
       "<div>\n",
       "<style scoped>\n",
       "    .dataframe tbody tr th:only-of-type {\n",
       "        vertical-align: middle;\n",
       "    }\n",
       "\n",
       "    .dataframe tbody tr th {\n",
       "        vertical-align: top;\n",
       "    }\n",
       "\n",
       "    .dataframe thead th {\n",
       "        text-align: right;\n",
       "    }\n",
       "</style>\n",
       "<table border=\"1\" class=\"dataframe\">\n",
       "  <thead>\n",
       "    <tr style=\"text-align: right;\">\n",
       "      <th></th>\n",
       "      <th>0</th>\n",
       "      <th>1</th>\n",
       "      <th>2</th>\n",
       "      <th>3</th>\n",
       "      <th>4</th>\n",
       "      <th>5</th>\n",
       "      <th>6</th>\n",
       "      <th>7</th>\n",
       "      <th>8</th>\n",
       "      <th>9</th>\n",
       "      <th>...</th>\n",
       "      <th>63</th>\n",
       "      <th>64</th>\n",
       "      <th>65</th>\n",
       "      <th>66</th>\n",
       "      <th>67</th>\n",
       "      <th>68</th>\n",
       "      <th>69</th>\n",
       "      <th>70</th>\n",
       "      <th>71</th>\n",
       "      <th>72</th>\n",
       "    </tr>\n",
       "  </thead>\n",
       "  <tbody>\n",
       "    <tr>\n",
       "      <th>0</th>\n",
       "      <td>-0.018521</td>\n",
       "      <td>-0.051965</td>\n",
       "      <td>-0.064672</td>\n",
       "      <td>4.730302</td>\n",
       "      <td>-0.191367</td>\n",
       "      <td>-0.17667</td>\n",
       "      <td>-0.089966</td>\n",
       "      <td>-0.0279</td>\n",
       "      <td>-0.024885</td>\n",
       "      <td>-0.320835</td>\n",
       "      <td>...</td>\n",
       "      <td>-0.047485</td>\n",
       "      <td>-1.056624</td>\n",
       "      <td>-0.994903</td>\n",
       "      <td>-0.445505</td>\n",
       "      <td>1.942259</td>\n",
       "      <td>-0.156515</td>\n",
       "      <td>-0.068413</td>\n",
       "      <td>-0.754619</td>\n",
       "      <td>-0.755384</td>\n",
       "      <td>-0.020657</td>\n",
       "    </tr>\n",
       "    <tr>\n",
       "      <th>1</th>\n",
       "      <td>-0.018521</td>\n",
       "      <td>-0.051965</td>\n",
       "      <td>-0.064672</td>\n",
       "      <td>-0.211403</td>\n",
       "      <td>-0.191367</td>\n",
       "      <td>-0.17667</td>\n",
       "      <td>-0.089966</td>\n",
       "      <td>-0.0279</td>\n",
       "      <td>-0.024885</td>\n",
       "      <td>-0.320835</td>\n",
       "      <td>...</td>\n",
       "      <td>-0.047485</td>\n",
       "      <td>-1.056624</td>\n",
       "      <td>-0.994903</td>\n",
       "      <td>-0.445505</td>\n",
       "      <td>-0.514864</td>\n",
       "      <td>-0.156515</td>\n",
       "      <td>-0.068413</td>\n",
       "      <td>1.325172</td>\n",
       "      <td>1.323830</td>\n",
       "      <td>-0.020657</td>\n",
       "    </tr>\n",
       "    <tr>\n",
       "      <th>2</th>\n",
       "      <td>-0.018521</td>\n",
       "      <td>-0.051965</td>\n",
       "      <td>-0.064672</td>\n",
       "      <td>-0.211403</td>\n",
       "      <td>5.225570</td>\n",
       "      <td>-0.17667</td>\n",
       "      <td>-0.089966</td>\n",
       "      <td>-0.0279</td>\n",
       "      <td>-0.024885</td>\n",
       "      <td>-0.320835</td>\n",
       "      <td>...</td>\n",
       "      <td>-0.047485</td>\n",
       "      <td>0.946410</td>\n",
       "      <td>1.005123</td>\n",
       "      <td>-0.445505</td>\n",
       "      <td>-0.514864</td>\n",
       "      <td>-0.156515</td>\n",
       "      <td>-0.068413</td>\n",
       "      <td>1.325172</td>\n",
       "      <td>1.323830</td>\n",
       "      <td>-0.020657</td>\n",
       "    </tr>\n",
       "    <tr>\n",
       "      <th>3</th>\n",
       "      <td>-0.018521</td>\n",
       "      <td>-0.051965</td>\n",
       "      <td>-0.064672</td>\n",
       "      <td>-0.211403</td>\n",
       "      <td>-0.191367</td>\n",
       "      <td>-0.17667</td>\n",
       "      <td>-0.089966</td>\n",
       "      <td>-0.0279</td>\n",
       "      <td>-0.024885</td>\n",
       "      <td>-0.320835</td>\n",
       "      <td>...</td>\n",
       "      <td>-0.047485</td>\n",
       "      <td>0.946410</td>\n",
       "      <td>1.005123</td>\n",
       "      <td>-0.445505</td>\n",
       "      <td>-0.514864</td>\n",
       "      <td>-0.156515</td>\n",
       "      <td>-0.068413</td>\n",
       "      <td>-0.754619</td>\n",
       "      <td>-0.755384</td>\n",
       "      <td>-0.020657</td>\n",
       "    </tr>\n",
       "    <tr>\n",
       "      <th>4</th>\n",
       "      <td>-0.018521</td>\n",
       "      <td>-0.051965</td>\n",
       "      <td>-0.064672</td>\n",
       "      <td>-0.211403</td>\n",
       "      <td>-0.191367</td>\n",
       "      <td>-0.17667</td>\n",
       "      <td>-0.089966</td>\n",
       "      <td>-0.0279</td>\n",
       "      <td>-0.024885</td>\n",
       "      <td>-0.320835</td>\n",
       "      <td>...</td>\n",
       "      <td>-0.047485</td>\n",
       "      <td>0.946410</td>\n",
       "      <td>1.005123</td>\n",
       "      <td>-0.445505</td>\n",
       "      <td>-0.514864</td>\n",
       "      <td>-0.156515</td>\n",
       "      <td>-0.068413</td>\n",
       "      <td>-0.754619</td>\n",
       "      <td>-0.755384</td>\n",
       "      <td>-0.020657</td>\n",
       "    </tr>\n",
       "  </tbody>\n",
       "</table>\n",
       "<p>5 rows × 73 columns</p>\n",
       "</div>"
      ],
      "text/plain": [
       "         0         1         2         3         4        5         6   \\\n",
       "0 -0.018521 -0.051965 -0.064672  4.730302 -0.191367 -0.17667 -0.089966   \n",
       "1 -0.018521 -0.051965 -0.064672 -0.211403 -0.191367 -0.17667 -0.089966   \n",
       "2 -0.018521 -0.051965 -0.064672 -0.211403  5.225570 -0.17667 -0.089966   \n",
       "3 -0.018521 -0.051965 -0.064672 -0.211403 -0.191367 -0.17667 -0.089966   \n",
       "4 -0.018521 -0.051965 -0.064672 -0.211403 -0.191367 -0.17667 -0.089966   \n",
       "\n",
       "       7         8         9   ...        63        64        65        66  \\\n",
       "0 -0.0279 -0.024885 -0.320835  ... -0.047485 -1.056624 -0.994903 -0.445505   \n",
       "1 -0.0279 -0.024885 -0.320835  ... -0.047485 -1.056624 -0.994903 -0.445505   \n",
       "2 -0.0279 -0.024885 -0.320835  ... -0.047485  0.946410  1.005123 -0.445505   \n",
       "3 -0.0279 -0.024885 -0.320835  ... -0.047485  0.946410  1.005123 -0.445505   \n",
       "4 -0.0279 -0.024885 -0.320835  ... -0.047485  0.946410  1.005123 -0.445505   \n",
       "\n",
       "         67        68        69        70        71        72  \n",
       "0  1.942259 -0.156515 -0.068413 -0.754619 -0.755384 -0.020657  \n",
       "1 -0.514864 -0.156515 -0.068413  1.325172  1.323830 -0.020657  \n",
       "2 -0.514864 -0.156515 -0.068413  1.325172  1.323830 -0.020657  \n",
       "3 -0.514864 -0.156515 -0.068413 -0.754619 -0.755384 -0.020657  \n",
       "4 -0.514864 -0.156515 -0.068413 -0.754619 -0.755384 -0.020657  \n",
       "\n",
       "[5 rows x 73 columns]"
      ]
     },
     "execution_count": 64,
     "metadata": {},
     "output_type": "execute_result"
    }
   ],
   "source": [
    "#to be used to check if standard scalar is working or not\n",
    "df2=pd.DataFrame(data=X_train[:,:])\n",
    "df2.head()"
   ]
  },
  {
   "cell_type": "code",
   "execution_count": 65,
   "metadata": {},
   "outputs": [
    {
     "name": "stderr",
     "output_type": "stream",
     "text": [
      "c:\\users\\671869\\documents\\case_study\\agent_attiration\\lib\\site-packages\\sklearn\\linear_model\\logistic.py:433: FutureWarning: Default solver will be changed to 'lbfgs' in 0.22. Specify a solver to silence this warning.\n",
      "  FutureWarning)\n"
     ]
    },
    {
     "data": {
      "text/plain": [
       "LogisticRegression(C=1, class_weight=None, dual=False, fit_intercept=True,\n",
       "          intercept_scaling=1, max_iter=100, multi_class='warn',\n",
       "          n_jobs=None, penalty='l2', random_state=None, solver='warn',\n",
       "          tol=0.0001, verbose=0, warm_start=False)"
      ]
     },
     "execution_count": 65,
     "metadata": {},
     "output_type": "execute_result"
    }
   ],
   "source": [
    "#import LogisticRegression Algorithm\n",
    "classifier=LogisticRegression(C=1)\n",
    "classifier.fit(X_train,y_train)\n",
    "classifier."
   ]
  },
  {
   "cell_type": "code",
   "execution_count": 81,
   "metadata": {},
   "outputs": [
    {
     "name": "stdout",
     "output_type": "stream",
     "text": [
      "Feature ranking:\n",
      "1. feature 58 (0.599672)\n",
      "2. feature 57 (0.156388)\n",
      "3. feature 59 (0.147147)\n",
      "4. feature 56 (0.012719)\n",
      "5. feature 60 (0.008662)\n",
      "6. feature 64 (0.007602)\n",
      "7. feature 65 (0.007498)\n",
      "8. feature 66 (0.007324)\n",
      "9. feature 67 (0.004684)\n",
      "10. feature 70 (0.002863)\n",
      "11. feature 71 (0.002798)\n",
      "12. feature 62 (0.001921)\n",
      "13. feature 61 (0.001774)\n",
      "14. feature 47 (0.001746)\n",
      "15. feature 9 (0.001680)\n",
      "16. feature 30 (0.001565)\n",
      "17. feature 3 (0.001531)\n",
      "18. feature 68 (0.001492)\n",
      "19. feature 25 (0.001461)\n",
      "20. feature 24 (0.001407)\n",
      "21. feature 36 (0.001337)\n",
      "22. feature 35 (0.001317)\n",
      "23. feature 28 (0.001172)\n",
      "24. feature 4 (0.001107)\n",
      "25. feature 13 (0.001103)\n",
      "26. feature 44 (0.001059)\n",
      "27. feature 5 (0.001051)\n",
      "28. feature 40 (0.001048)\n",
      "29. feature 46 (0.001028)\n",
      "30. feature 69 (0.000995)\n",
      "31. feature 15 (0.000934)\n",
      "32. feature 17 (0.000930)\n",
      "33. feature 32 (0.000919)\n",
      "34. feature 48 (0.000892)\n",
      "35. feature 53 (0.000864)\n",
      "36. feature 16 (0.000856)\n",
      "37. feature 49 (0.000853)\n",
      "38. feature 52 (0.000715)\n",
      "39. feature 6 (0.000708)\n",
      "40. feature 10 (0.000698)\n",
      "41. feature 34 (0.000683)\n",
      "42. feature 23 (0.000651)\n",
      "43. feature 43 (0.000646)\n",
      "44. feature 42 (0.000524)\n",
      "45. feature 20 (0.000515)\n",
      "46. feature 37 (0.000455)\n",
      "47. feature 2 (0.000442)\n",
      "48. feature 18 (0.000409)\n",
      "49. feature 1 (0.000387)\n",
      "50. feature 63 (0.000368)\n",
      "51. feature 39 (0.000353)\n",
      "52. feature 14 (0.000316)\n",
      "53. feature 31 (0.000314)\n",
      "54. feature 33 (0.000270)\n",
      "55. feature 29 (0.000269)\n",
      "56. feature 27 (0.000240)\n",
      "57. feature 21 (0.000234)\n",
      "58. feature 19 (0.000193)\n",
      "59. feature 72 (0.000163)\n",
      "60. feature 7 (0.000155)\n",
      "61. feature 22 (0.000133)\n",
      "62. feature 26 (0.000114)\n",
      "63. feature 55 (0.000111)\n",
      "64. feature 54 (0.000084)\n",
      "65. feature 8 (0.000083)\n",
      "66. feature 51 (0.000080)\n",
      "67. feature 0 (0.000073)\n",
      "68. feature 12 (0.000073)\n",
      "69. feature 41 (0.000069)\n",
      "70. feature 11 (0.000035)\n",
      "71. feature 38 (0.000031)\n",
      "72. feature 50 (0.000006)\n",
      "73. feature 45 (0.000000)\n"
     ]
    },
    {
     "data": {
      "image/png": "[encoded data removed]",
      "text/plain": [
       "<Figure size 432x288 with 1 Axes>"
      ]
     },
     "metadata": {
      "needs_background": "light"
     },
     "output_type": "display_data"
    }
   ],
   "source": [
    "import numpy as np\n",
    "import matplotlib.pyplot as plt\n",
    "%matplotlib inline\n",
    "\n",
    "from sklearn.datasets import make_classification\n",
    "from sklearn.ensemble import ExtraTreesClassifier\n",
    "\n",
    "# Build a classification task using 3 informative features\n",
    "\n",
    "# Build a forest and compute the feature importances\n",
    "forest = ExtraTreesClassifier(n_estimators=250,\n",
    "                              random_state=0)\n",
    "\n",
    "forest.fit(X, y)\n",
    "importances = forest.feature_importances_\n",
    "std = np.std([tree.feature_importances_ for tree in forest.estimators_],\n",
    "             axis=0)\n",
    "indices = np.argsort(importances)[::-1]\n",
    "\n",
    "# Print the feature ranking\n",
    "print(\"Feature ranking:\")\n",
    "\n",
    "for f in range(X.shape[1]):\n",
    "    print(\"%d. feature %d (%f)\" % (f + 1, indices[f], importances[indices[f]]))\n",
    "\n",
    "# Plot the feature importances of the forest\n",
    "plt.figure()\n",
    "plt.title(\"Feature importances\")\n",
    "plt.bar(range(X.shape[1]), importances[indices],\n",
    "       color=\"r\", yerr=std[indices], align=\"center\")\n",
    "plt.xticks(range(X.shape[1]), indices)\n",
    "plt.xlim([-1, X.shape[1]])\n",
    "plt.show()"
   ]
  },
  {
   "cell_type": "code",
   "execution_count": 66,
   "metadata": {},
   "outputs": [],
   "source": [
    "#Predict value for X_test\n",
    "y_pred_logistic=classifier.predict(X_test)"
   ]
  },
  {
   "cell_type": "code",
   "execution_count": 67,
   "metadata": {},
   "outputs": [
    {
     "data": {
      "text/plain": [
       "array([[ 3.56605845e-03,  2.63514245e-03, -1.21541406e-02,\n",
       "        -2.76906393e-03,  9.02576415e-03,  9.94773294e-03,\n",
       "         5.27137187e-03,  3.97421981e-03, -1.35785914e-02,\n",
       "         6.47577925e-03, -4.78929846e-03,  2.89806053e-02,\n",
       "         1.64535689e-02, -5.70594817e-03,  1.05139766e-02,\n",
       "        -1.35205664e-02,  9.71888388e-04, -6.77225953e-03,\n",
       "        -1.56370469e-02,  1.57672270e-02, -8.36053613e-03,\n",
       "         1.66177949e-02, -4.18043471e-03,  1.45636731e-02,\n",
       "         2.97499476e-03, -2.81290776e-03, -1.00788378e-02,\n",
       "         2.25606817e-03,  9.19171869e-04, -1.75886949e-03,\n",
       "        -5.34579384e-05, -5.83279097e-03,  2.78125208e-04,\n",
       "         3.52694592e-03,  4.17679231e-03,  6.17782150e-04,\n",
       "        -2.56152061e-03,  1.10956497e-03, -1.74213834e-02,\n",
       "        -1.15122170e-02, -8.25157650e-03,  7.63252406e-03,\n",
       "         1.47247348e-03,  4.70387299e-03,  2.35391667e-03,\n",
       "        -1.59283739e-02,  1.68605527e-03, -2.18012700e-03,\n",
       "        -3.62876111e-04, -2.90660708e-03, -2.97379657e-02,\n",
       "        -2.67311660e-03, -5.04888405e-03,  1.19796886e-02,\n",
       "         4.58200571e-03,  1.10736621e-02,  2.22265801e-03,\n",
       "        -3.55318029e-03, -1.11136710e+00, -5.16080651e-03,\n",
       "         3.18078540e-03,  1.11771488e-02,  6.71882369e-03,\n",
       "        -5.29481614e-03,  8.71575225e-03, -4.15797209e-04,\n",
       "        -1.00297018e-02, -1.18405696e-02, -3.83837389e-03,\n",
       "        -9.14680812e-04, -1.32756130e-02,  1.25755227e-02,\n",
       "        -3.75131893e-03]])"
      ]
     },
     "execution_count": 67,
     "metadata": {},
     "output_type": "execute_result"
    }
   ],
   "source": [
    "#check coff of logistic regression\n",
    "classifier.coef_"
   ]
  },
  {
   "cell_type": "code",
   "execution_count": 68,
   "metadata": {},
   "outputs": [
    {
     "name": "stdout",
     "output_type": "stream",
     "text": [
      "0.84683125094084\n",
      "[[10731     5]\n",
      " [ 2030   520]]\n"
     ]
    }
   ],
   "source": [
    "#check the accuracy and confusion matrix\n",
    "conf_met=confusion_matrix(y_test,y_pred_logistic)\n",
    "acc_logistic=accuracy_score(y_test,y_pred_logistic)\n",
    "print(acc_logistic)\n",
    "print(conf_met)"
   ]
  },
  {
   "cell_type": "code",
   "execution_count": 77,
   "metadata": {},
   "outputs": [
    {
     "data": {
      "text/plain": [
       "RandomForestClassifier(bootstrap=True, class_weight=None, criterion='gini',\n",
       "            max_depth=None, max_features='auto', max_leaf_nodes=None,\n",
       "            min_impurity_decrease=0.0, min_impurity_split=None,\n",
       "            min_samples_leaf=1, min_samples_split=2,\n",
       "            min_weight_fraction_leaf=0.0, n_estimators=10, n_jobs=None,\n",
       "            oob_score=False, random_state=0, verbose=0, warm_start=False)"
      ]
     },
     "execution_count": 77,
     "metadata": {},
     "output_type": "execute_result"
    }
   ],
   "source": [
    "#Import randomforest algo\n",
    "rand_classifier=RandomForestClassifier(n_estimators=10 ,random_state=0)\n",
    "rand_classifier.fit(X_train,y_train)"
   ]
  },
  {
   "cell_type": "code",
   "execution_count": 78,
   "metadata": {},
   "outputs": [
    {
     "name": "stdout",
     "output_type": "stream",
     "text": [
      "0.901174168297456\n",
      "[[10633   103]\n",
      " [ 1210  1340]]\n"
     ]
    }
   ],
   "source": [
    "#check the accuracy and confusion matrix\n",
    "y_pred_rand=rand_classifier.predict(X_test)\n",
    "conf_met_rand=confusion_matrix(y_test,y_pred_rand)\n",
    "acc_rand=accuracy_score(y_test,y_pred_rand)\n",
    "print(acc_rand)\n",
    "print(conf_met_rand)"
   ]
  },
  {
   "cell_type": "code",
   "execution_count": 71,
   "metadata": {},
   "outputs": [
    {
     "data": {
      "text/plain": [
       "DecisionTreeClassifier(class_weight=None, criterion='gini', max_depth=None,\n",
       "            max_features=None, max_leaf_nodes=None,\n",
       "            min_impurity_decrease=0.0, min_impurity_split=None,\n",
       "            min_samples_leaf=1, min_samples_split=2,\n",
       "            min_weight_fraction_leaf=0.0, presort=False, random_state=0,\n",
       "            splitter='best')"
      ]
     },
     "execution_count": 71,
     "metadata": {},
     "output_type": "execute_result"
    }
   ],
   "source": [
    "class_tree=DecisionTreeClassifier(random_state=0)\n",
    "class_tree.fit(X_train,y_train)"
   ]
  },
  {
   "cell_type": "code",
   "execution_count": 72,
   "metadata": {},
   "outputs": [
    {
     "name": "stdout",
     "output_type": "stream",
     "text": [
      "0.8227457474032817\n",
      "[[9460 1276]\n",
      " [1079 1471]]\n"
     ]
    }
   ],
   "source": [
    "#check the accuracy and confusion matrix\n",
    "y_pred_tree=class_tree.predict(X_test)\n",
    "conf_met_tree=confusion_matrix(y_test,y_pred_tree)\n",
    "acc_tree=accuracy_score(y_test,y_pred_tree)\n",
    "print(acc_tree)\n",
    "print(conf_met_tree)"
   ]
  },
  {
   "cell_type": "code",
   "execution_count": 73,
   "metadata": {},
   "outputs": [
    {
     "data": {
      "text/plain": [
       "DecisionTreeClassifier(class_weight=None, criterion='gini', max_depth=None,\n",
       "            max_features=None, max_leaf_nodes=None,\n",
       "            min_impurity_decrease=0.0, min_impurity_split=None,\n",
       "            min_samples_leaf=1, min_samples_split=2,\n",
       "            min_weight_fraction_leaf=0.0, presort=False, random_state=0,\n",
       "            splitter='best')"
      ]
     },
     "execution_count": 73,
     "metadata": {},
     "output_type": "execute_result"
    }
   ],
   "source": [
    "#Import Naivebayes algo\n",
    "class_naive=DecisionTreeClassifier(random_state=0)\n",
    "class_naive.fit(X_train,y_train)"
   ]
  },
  {
   "cell_type": "code",
   "execution_count": 74,
   "metadata": {},
   "outputs": [
    {
     "name": "stdout",
     "output_type": "stream",
     "text": [
      "0.8227457474032817\n",
      "[[9460 1276]\n",
      " [1079 1471]]\n"
     ]
    }
   ],
   "source": [
    "#check the accuracy and confusion matrix\n",
    "y_pred_naive=class_naive.predict(X_test)\n",
    "conf_met_naive=confusion_matrix(y_test,y_pred_naive)\n",
    "acc_naive=accuracy_score(y_test,y_pred_naive)\n",
    "print(acc_naive)\n",
    "print(conf_met_naive)"
   ]
  },
  {
   "cell_type": "code",
   "execution_count": 75,
   "metadata": {},
   "outputs": [
    {
     "data": {
      "text/plain": [
       "XGBClassifier(base_score=0.5, booster='gbtree', colsample_bylevel=1,\n",
       "       colsample_bytree=1, gamma=0, learning_rate=0.1, max_delta_step=0,\n",
       "       max_depth=3, min_child_weight=1, missing=None, n_estimators=100,\n",
       "       n_jobs=1, nthread=None, objective='binary:logistic', random_state=0,\n",
       "       reg_alpha=0, reg_lambda=1, scale_pos_weight=1, seed=None,\n",
       "       silent=True, subsample=1)"
      ]
     },
     "execution_count": 75,
     "metadata": {},
     "output_type": "execute_result"
    }
   ],
   "source": [
    "#Import XGB\n",
    "class_xgboost=XGBClassifier(random_state=0)\n",
    "class_xgboost.fit(X_train,y_train)"
   ]
  },
  {
   "cell_type": "code",
   "execution_count": 76,
   "metadata": {},
   "outputs": [
    {
     "name": "stdout",
     "output_type": "stream",
     "text": [
      "0.8227457474032817\n",
      "[[9460 1276]\n",
      " [1079 1471]]\n"
     ]
    }
   ],
   "source": [
    "\n",
    "#check the accuracy and confusion matrix\n",
    "y_pred_xgboost=class_naive.predict(X_test)\n",
    "conf_met_xgboost=confusion_matrix(y_test,y_pred_xgboost)\n",
    "acc_xgboost=accuracy_score(y_test,y_pred_xgboost)\n",
    "print(acc_xgboost)\n",
    "print(conf_met_xgboost)"
   ]
  },
  {
   "cell_type": "markdown",
   "metadata": {},
   "source": [
    "## Creating Pickle File for model"
   ]
  },
  {
   "cell_type": "code",
   "execution_count": 37,
   "metadata": {},
   "outputs": [],
   "source": [
    "#import pickle library\n",
    "\n",
    "#create the file paths\n",
    "model_file_path=os.path.join(os.path.pardir,'models','agent_predictor_model_xgboost.pkl')\n",
    "\n",
    "#open the files to write\n",
    "model_file_pickle=open(model_file_path,'wb')\n",
    "\n",
    "#write in file\n",
    "pickle.dump(class_xgboost,model_file_pickle)\n",
    "\n",
    "#close the file\n",
    "model_file_pickle.close()"
   ]
  },
  {
   "cell_type": "code",
   "execution_count": 116,
   "metadata": {},
   "outputs": [],
   "source": [
    "import os\n",
    "import pickle\n",
    "#create the file paths\n",
    "model_file_path=os.path.join(os.path.pardir,'models','agent_predictor_model_xgboost.pkl')\n",
    "\n",
    "#open files in read mode\n",
    "model_file_pickle=open(model_file_path,'rb')\n",
    "\n",
    "#load files\n",
    "agent_predictor_model=pickle.load(model_file_pickle)\n",
    "\n",
    "#close the file\n",
    "model_file_pickle.close()"
   ]
  },
  {
   "cell_type": "code",
   "execution_count": 117,
   "metadata": {},
   "outputs": [
    {
     "data": {
      "text/plain": [
       "XGBClassifier(base_score=0.5, booster='gbtree', colsample_bylevel=1,\n",
       "       colsample_bytree=1, gamma=0, learning_rate=0.1, max_delta_step=0,\n",
       "       max_depth=3, min_child_weight=1, missing=nan, n_estimators=100,\n",
       "       n_jobs=1, nthread=None, objective='binary:logistic', random_state=0,\n",
       "       reg_alpha=0, reg_lambda=1, scale_pos_weight=1, seed=None,\n",
       "       silent=True, subsample=1)"
      ]
     },
     "execution_count": 117,
     "metadata": {},
     "output_type": "execute_result"
    }
   ],
   "source": [
    "#check the model\n",
    "agent_predictor_model"
   ]
  },
  {
   "cell_type": "code",
   "execution_count": 118,
   "metadata": {},
   "outputs": [
    {
     "name": "stdout",
     "output_type": "stream",
     "text": [
      "[0. 0. 0. 0. 0. 0. 0. 0. 0. 0. 0. 0. 0. 0. 0. 0. 0. 0. 0. 0. 0. 0. 0. 0.\n",
      " 0. 0. 0. 0. 0. 0. 0. 0. 0. 0. 0. 0. 0. 0. 0. 0. 0. 0. 0. 0. 0. 0. 0. 0.\n",
      " 0. 0. 0. 0. 0. 0. 0. 0. 0. 0. 1. 0. 0. 0. 0. 0. 0. 0. 0. 0. 0. 0. 0. 0.\n",
      " 0.]\n"
     ]
    },
    {
     "data": {
      "image/png": "[encoded data removed]",
      "text/plain": [
       "<Figure size 432x288 with 1 Axes>"
      ]
     },
     "metadata": {
      "needs_background": "light"
     },
     "output_type": "display_data"
    }
   ],
   "source": [
    "%matplotlib inline\n",
    "# plot feature importance manually\n",
    "from numpy import loadtxt\n",
    "\n",
    "from matplotlib import pyplot\n",
    "\n",
    "# feature importance\n",
    "print(agent_predictor_model.feature_importances_)\n",
    "# plot\n",
    "pyplot.bar(range(len(agent_predictor_model.feature_importances_)), agent_predictor_model.feature_importances_)\n",
    "pyplot.show()"
   ]
  },
  {
   "cell_type": "code",
   "execution_count": 119,
   "metadata": {},
   "outputs": [
    {
     "data": {
      "image/png": "[encoded data removed]",
      "text/plain": [
       "<Figure size 432x288 with 1 Axes>"
      ]
     },
     "metadata": {
      "needs_background": "light"
     },
     "output_type": "display_data"
    }
   ],
   "source": [
    "from numpy import loadtxt\n",
    "\n",
    "from xgboost import plot_importance\n",
    "from matplotlib import pyplot\n",
    "# load data\n",
    "\n",
    "\n",
    "# plot feature importance\n",
    "plot_importance(agent_predictor_model)\n",
    "pyplot.show()"
   ]
  },
  {
   "cell_type": "code",
   "execution_count": null,
   "metadata": {},
   "outputs": [],
   "source": []
  }
 ],
 "metadata": {
  "kernelspec": {
   "display_name": "Python 3",
   "language": "python",
   "name": "python3"
  },
  "language_info": {
   "codemirror_mode": {
    "name": "ipython",
    "version": 3
   },
   "file_extension": ".py",
   "mimetype": "text/x-python",
   "name": "python",
   "nbconvert_exporter": "python",
   "pygments_lexer": "ipython3",
   "version": "3.7.0"
  }
 },
 "nbformat": 4,
 "nbformat_minor": 2
}
